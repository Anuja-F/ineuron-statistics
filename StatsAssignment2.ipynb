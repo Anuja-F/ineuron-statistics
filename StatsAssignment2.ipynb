{
 "cells": [
  {
   "cell_type": "markdown",
   "metadata": {},
   "source": [
    "# Statistics Assignment 2"
   ]
  },
  {
   "cell_type": "markdown",
   "metadata": {},
   "source": [
    "## In each of the following situations, state whether it is a correctly stated hypothesis testing problem and why?\n",
    "### 1. H0: μ = 25, H1: μ ≠ 25 \n",
    "### 2. H0: σ > 10, H1: σ = 10  \n",
    "### 3. H0: x = 50, H1: x ≠ 50  \n",
    "### 4. H0: p = 0.1, H1: p = 0.5  \n",
    "### 5. H0: s = 30, H1: s > 30"
   ]
  },
  {
   "cell_type": "code",
   "execution_count": 8,
   "metadata": {},
   "outputs": [
    {
     "name": "stdout",
     "output_type": "stream",
     "text": [
      " 1. Yes, H0 is the null hypothesis and H1 is the alternate hypothesis.\n",
      " Because null hypothsis states mu=0 and alternate   hypothesis specifies that value of mu could be either greater than or less than 25. It is called two-sided alternate hypothesis \n",
      "\n",
      " 2. No, because null hypothesis always show equality claim. At the same time when alternate hypothesis is stated using > then null hypothesis can be taken as <=, and if alternate hypothesis is stated with < then H0 would take >=\n",
      "\n",
      " 3. No, beacuse hypotheses are always made for population or distribution but not for sample\n",
      "\n",
      " 4. No. because values in both the hypotheses are different\n",
      "\n",
      " 5.No, beacuse hypotheses are always made for population or distribution but not for sample\n"
     ]
    }
   ],
   "source": [
    "print(\" 1. Yes, H0 is the null hypothesis and H1 is the alternate hypothesis.\\n Because null hypothsis states mu=0 and alternate   hypothesis specifies that value of mu could be either greater than or less than 25. It is called two-sided alternate hypothesis \")\n",
    "\n",
    "print(\"\\n 2. No, because null hypothesis always show equality claim. At the same time when alternate hypothesis is stated using > then null hypothesis can be taken as <=, and if alternate hypothesis is stated with < then H0 would take >=\")\n",
    "\n",
    "print(\"\\n 3. No, beacuse hypotheses are always made for population or distribution but not for sample\")\n",
    "print(\"\\n 4. No. because values in both the hypotheses are different\")\n",
    "print(\"\\n 5.No, beacuse hypotheses are always made for population or distribution but not for sample\")"
   ]
  },
  {
   "cell_type": "markdown",
   "metadata": {},
   "source": [
    "### The college bookstore tells prospective students that the average cost of its textbooks is Rs. 52 with a standard deviation of Rs. 4.50. A group of smart statistics students thinks that the average cost is higher. To test the bookstore’s claim against their alternative, the students will select a random sample of size 100. Assume that the mean from their random sample is Rs. 52.80. Perform a hypothesis test at the 5% level of significance and state your decision."
   ]
  },
  {
   "cell_type": "code",
   "execution_count": 15,
   "metadata": {},
   "outputs": [
    {
     "name": "stdout",
     "output_type": "stream",
     "text": [
      "H0 mu = 52\n",
      "\n",
      "H1 mu!= 52\n",
      "\n",
      "alpha = 0.05, z(critical) = 1.65 from z table\n",
      "\n",
      "value of z* 1.7777777777777715\n",
      "\n",
      "value of z* > z(critical), so it lies in rejection region of H0\n",
      "\n",
      "Reject H0. Based on this one sample of size 100 with a one-tailed test on the right andα =.05 , it seems as though we can not believe the bookstore’s claim that the mean cost of textbooks is $52. The higher value of $52.80 is probably not due to random chance. \n"
     ]
    }
   ],
   "source": [
    "print(\"H0 mu = 52\")\n",
    "print(\"\\nH1 mu > 52\")\n",
    "print(\"\\nalpha = 0.05, z(critical) = 1.65 from z table\")\n",
    "\n",
    "z_test = (52.8-52)/(4.5/10)\n",
    "print(\"\\nvalue of z*\", z_test)\n",
    "if(z_test > 1.65):\n",
    "    print(\"\\nvalue of z* > z(critical), so it lies in rejection region of H0\")\n",
    "else:\n",
    "     print(\"\\nvalue of z* lies in acceptance region of H0\")   \n",
    "print(\"\\nReject H0. Based on this one sample of size 100 with a one-tailed test on the right andα =.05 , it seems as though we can not believe the bookstore’s claim that the mean cost of textbooks is $52. The higher value of $52.80 is probably not due to random chance. \")"
   ]
  },
  {
   "cell_type": "markdown",
   "metadata": {},
   "source": [
    "### A certain chemical pollutant in the Genesee River has been constant for several years with mean μ = 34 ppm (parts per million) and standard deviation σ = 8 ppm. A group of factory representatives whose companies discharge liquids into the river is now claiming that they have lowered the average with improved filtration devices. A group of environmentalists will test to see if this is true at the 1% level of significance. Assume \\ that their sample of size 50 gives a mean of 32.5 ppm. Perform a hypothesis test at the 1% level of significance and state your decision."
   ]
  },
  {
   "cell_type": "code",
   "execution_count": 16,
   "metadata": {},
   "outputs": [
    {
     "name": "stdout",
     "output_type": "stream",
     "text": [
      "H0 mu = 34\n",
      "\n",
      "H1 mu < 34\n",
      "\n",
      "alpha = 0.01, z(critical) = 2.36 from z table\n",
      "\n",
      "value of z* -0.4100107777287293\n",
      "\n",
      "value of z* lies in acceptance region of H0\n",
      "\n",
      "Do not Reject H0. Based on this one sample of size 50 with a one-tailed test on the left and α =.01, it seems as though we can not believe the factories claim that the mean amount of pollutant is less than 34 ppm. The lower value of 32.5 ppm is probably due to random chance \n"
     ]
    }
   ],
   "source": [
    "print(\"H0 mu = 34\")\n",
    "print(\"\\nH1 mu < 34\")\n",
    "print(\"\\nalpha = 0.01, z(critical) = 2.36 from z table\")\n",
    "\n",
    "z_test = (32.5-34)/(8/(50**0.2))\n",
    "print(\"\\nvalue of z*\", z_test)\n",
    "if(z_test > 2.36 or z_test < -2.36):\n",
    "    print(\"\\nvalue of z* > z(critical), so it lies in rejection region of H0\")\n",
    "else:\n",
    "     print(\"\\nvalue of z* lies in acceptance region of H0\")   \n",
    "print(\"\\nDo not Reject H0. Based on this one sample of size 50 with a one-tailed test on the left and α =.01, it seems as though we can not believe the factories claim that the mean amount of pollutant is less than 34 ppm. The lower value of 32.5 ppm is probably due to random chance \")"
   ]
  },
  {
   "cell_type": "markdown",
   "metadata": {},
   "source": [
    "### Based on population figures and other general information on the U.S. population, suppose it has been estimated that, on average, a family of four in the U.S. spends about  1135 dollar annually on dental expenditures. Suppose further that a regional dental association wants to test to determine if this figure is accurate for their area of country. To test this, 22 families of 4 are randomly selected from the population in that area of the country and a log is kept of the family’s dental expenditure for one year. The resulting data are given below. Assuming, that dental expenditure is normally distributed in the population, use the data and an alpha of 0.5 to test the dental association’s hypothesis. 1008, 812, 1117, 1323, 1308, 1415, 831, 1021, 1287, 851, 930, 730, 699, 872, 913, 944, 954, 987, 1695, 995, 1003, 994"
   ]
  },
  {
   "cell_type": "code",
   "execution_count": 2,
   "metadata": {},
   "outputs": [
    {
     "name": "stdout",
     "output_type": "stream",
     "text": [
      "H0: mu=1135\n",
      "H1: mu != 1135\n",
      "aplha = 0.05 so z(critical) from z-table is (-/+)1.96 as its a two-tailed test\n",
      "z computed -2.023137479931484\n",
      "Value lies in rejection region. So we reject the null hypothesis\n"
     ]
    }
   ],
   "source": [
    "import statistics as stats\n",
    "import math\n",
    "print(\"H0: mu=1135\")\n",
    "print(\"H1: mu != 1135\")\n",
    "print(\"aplha = 0.05 so z(critical) from z-table is (-/+)1.96 as its a two-tailed test\")\n",
    "sample = [1008, 812, 1117, 1323, 1308, 1415, 831, 1021, 1287, 851, 930, 730, 699, 872, 913, 944, 954, 987, 1695, 995, 1003, 994]\n",
    "x_bar = stats.mean(sample)\n",
    "s = stats.stdev(sample)\n",
    "n=22\n",
    "mu=1135\n",
    "z = (x_bar - mu)/(s/(n**0.5))\n",
    "print(\"z computed\",z)\n",
    "if(abs(z) > 1.96 ):\n",
    "    print(\"Value lies in rejection region. So we reject the null hypothesis\")\n",
    "else:\n",
    "    print(\"We accept the null hypothesis\")     \n"
   ]
  },
  {
   "cell_type": "markdown",
   "metadata": {},
   "source": [
    "### In a report prepared by the Economic Research Department of a major bank the Department manager maintains that the average annual family income on Metropolis is 48,432 dollar. What do you conclude about the validity of the report if a random sample of 400 families shows and average income of 48,574 dollar with a standard deviation of 2000?"
   ]
  },
  {
   "cell_type": "code",
   "execution_count": 3,
   "metadata": {},
   "outputs": [
    {
     "name": "stdout",
     "output_type": "stream",
     "text": [
      "H0: mu = 48432\n",
      "H1: mu > 48432\n",
      "\n",
      "let alpha = 0.05 z(critical) is 1.645\n",
      "z computed 1.42\n",
      "We accept the null hypothesis, since computed value falls under acceptance region\n"
     ]
    }
   ],
   "source": [
    "print(\"H0: mu = 48432\")\n",
    "print(\"H1: mu > 48432\")\n",
    "print()\n",
    "s= 2000\n",
    "x_bar = 48574\n",
    "n = 400\n",
    "mu = 48432\n",
    "print(\"let alpha = 0.05 z(critical) is 1.645\")\n",
    "\n",
    "z = (x_bar-mu)/(s/(n**0.5))\n",
    "print(\"z computed\",z)\n",
    "if(abs(z)>1.645):\n",
    "    print(\"Value lies in rejection region. So we reject the null hypothesis\")\n",
    "else:\n",
    "    print(\"We accept the null hypothesis, since computed value falls under acceptance region\")"
   ]
  },
  {
   "cell_type": "markdown",
   "metadata": {},
   "source": [
    "### Suppose that in past years the average price per square foot for warehouses in the United States has been 32.28 dollar. A national real estate investor wants to determine whether that figure has changed now. The investor hires a researcher who randomly samples 19 warehouses that are for sale across the United States and finds that the mean price per square foot is 31.67 dollar, with a standard deviation of 1.29dollar. assume that the prices of warehouse footage are normally distributed in population. If the researcher uses a 5% level of significance, what statistical conclusion can be reached? What are the hypotheses?"
   ]
  },
  {
   "cell_type": "code",
   "execution_count": 7,
   "metadata": {},
   "outputs": [
    {
     "name": "stdout",
     "output_type": "stream",
     "text": [
      "H0: mu = 32.28\n",
      "H1: mu != 32.28\n",
      "alpha = 0.05 z(critical)  from z-table is -1.96 or 1.96 (two-tailed test)\n",
      "z computed -2.06118477175179\n",
      "Value lies in rejection region. So we reject the null hypothesis\n",
      "Hence average price per square foot for warehouses has changed now\n"
     ]
    }
   ],
   "source": [
    "print(\"H0: mu = 32.28\")\n",
    "print(\"H1: mu != 32.28\")\n",
    "print(\"alpha = 0.05 z(critical)  from z-table is -1.96 or 1.96 (two-tailed test)\")\n",
    "n=19\n",
    "s = 1.29\n",
    "x_bar = 31.67\n",
    "mu = 32.28\n",
    "z = (x_bar-mu)/(s/(n**0.5))\n",
    "print(\"z computed\", z)\n",
    "if(z<-1.96 or z >1.96 ):\n",
    "    print(\"Value lies in rejection region. So we reject the null hypothesis\")\n",
    "    print(\"Hence average price per square foot for warehouses has changed now\")\n",
    "else:\n",
    "    print(\"We accept the null hypothesis, since computed value falls under acceptance region\")\n"
   ]
  },
  {
   "cell_type": "markdown",
   "metadata": {},
   "source": [
    "### Problem 7: Fill in the blank spaces in the table and draw your conclusions from it.\n"
   ]
  },
  {
   "cell_type": "code",
   "execution_count": 5,
   "metadata": {},
   "outputs": [
    {
     "name": "stdout",
     "output_type": "stream",
     "text": [
      "alpha = P(type I error) = P(reject H0 when H0 is true)\n",
      "β = P(type II error) = P(fail to reject H0 when H0 is false)\n",
      "α = P(X < 48.5 when μ = 50)+ P(X > 51.5 when μ = 50)\n"
     ]
    },
    {
     "data": {
      "text/html": [
       "<div>\n",
       "<style scoped>\n",
       "    .dataframe tbody tr th:only-of-type {\n",
       "        vertical-align: middle;\n",
       "    }\n",
       "\n",
       "    .dataframe tbody tr th {\n",
       "        vertical-align: top;\n",
       "    }\n",
       "\n",
       "    .dataframe thead th {\n",
       "        text-align: right;\n",
       "    }\n",
       "</style>\n",
       "<table border=\"1\" class=\"dataframe\">\n",
       "  <thead>\n",
       "    <tr style=\"text-align: right;\">\n",
       "      <th></th>\n",
       "      <th>Acceptance Region</th>\n",
       "      <th>Sample Size</th>\n",
       "      <th>alpha</th>\n",
       "      <th>beta at mu=52</th>\n",
       "      <th>beta at mu=50.5</th>\n",
       "    </tr>\n",
       "  </thead>\n",
       "  <tbody>\n",
       "    <tr>\n",
       "      <th>0</th>\n",
       "      <td>48.5  &lt;= X &lt;=51.5</td>\n",
       "      <td>10</td>\n",
       "      <td>0.057</td>\n",
       "      <td>0.26</td>\n",
       "      <td>0.89</td>\n",
       "    </tr>\n",
       "    <tr>\n",
       "      <th>1</th>\n",
       "      <td>48 &lt;= X  &lt;=52</td>\n",
       "      <td>10</td>\n",
       "      <td>0.011</td>\n",
       "      <td>0.50</td>\n",
       "      <td>0.97</td>\n",
       "    </tr>\n",
       "    <tr>\n",
       "      <th>2</th>\n",
       "      <td>48.81&lt;= X &lt;=51.9</td>\n",
       "      <td>16</td>\n",
       "      <td>0.057</td>\n",
       "      <td>0.09</td>\n",
       "      <td>0.86</td>\n",
       "    </tr>\n",
       "    <tr>\n",
       "      <th>3</th>\n",
       "      <td>48.42&lt; X &lt;=51.52</td>\n",
       "      <td>16</td>\n",
       "      <td>0.011</td>\n",
       "      <td>0.25</td>\n",
       "      <td>0.95</td>\n",
       "    </tr>\n",
       "  </tbody>\n",
       "</table>\n",
       "</div>"
      ],
      "text/plain": [
       "   Acceptance Region  Sample Size  alpha  beta at mu=52  beta at mu=50.5\n",
       "0  48.5  <= X <=51.5           10  0.057           0.26             0.89\n",
       "1      48 <= X  <=52           10  0.011           0.50             0.97\n",
       "2   48.81<= X <=51.9           16  0.057           0.09             0.86\n",
       "3   48.42< X <=51.52           16  0.011           0.25             0.95"
      ]
     },
     "execution_count": 5,
     "metadata": {},
     "output_type": "execute_result"
    }
   ],
   "source": [
    "print(\"alpha = P(type I error) = P(reject H0 when H0 is true)\")\n",
    "print(\"β = P(type II error) = P(fail to reject H0 when H0 is false)\")\n",
    "print(\"α = P(X < 48.5 when μ = 50)+ P(X > 51.5 when μ = 50)\")\n",
    "\n",
    "import pandas as pd\n",
    "A = [\"48.5  <= X <=51.5\",\"48 <= X  <=52\",\"48.81<= X <=51.9\",\"48.42< X <=51.52\"]\n",
    "B = [10,10,16,16]\n",
    "alpha =[0.057,0.011,0.057,0.011]\n",
    "beta = [0.26,0.5,0.09,0.25]\n",
    "beta1=[0.89,0.97,0.86,0.95]\n",
    "\n",
    "table = pd.DataFrame({\"Acceptance Region\":A,\"Sample Size\":B,\"alpha\":alpha,\"beta at mu=52\":beta,\"beta at mu=50.5\":beta1})\n",
    "\n",
    "table"
   ]
  },
  {
   "cell_type": "markdown",
   "metadata": {},
   "source": [
    "### Find the t-score for a sample size of 16 taken from a population with mean 10 when the sample mean is 12 and the sample standard deviation is 1.5."
   ]
  },
  {
   "cell_type": "code",
   "execution_count": 9,
   "metadata": {},
   "outputs": [
    {
     "name": "stdout",
     "output_type": "stream",
     "text": [
      "t-score is:  5.333333333333333\n"
     ]
    }
   ],
   "source": [
    "n = 16\n",
    "mu =10\n",
    "x_bar =12\n",
    "s = 1.5\n",
    "\n",
    "t = (x_bar-mu)/(s/(n**0.5))\n",
    "print(\"t-score is: \",t)"
   ]
  },
  {
   "cell_type": "markdown",
   "metadata": {},
   "source": [
    "### Find the t-score below which we can expect 99% of sample means will fall if samples of size 16 are taken from a normally distributed population."
   ]
  },
  {
   "cell_type": "code",
   "execution_count": 13,
   "metadata": {},
   "outputs": [
    {
     "name": "stdout",
     "output_type": "stream",
     "text": [
      "From t-score table for t0.99 = -t.0.01 and DOF = 15 is :  -2.602\n"
     ]
    }
   ],
   "source": [
    "n = 16\n",
    "degree_of_freedom = n-1\n",
    "confidence_level = 0.99\n",
    "t_score = 2.602\n",
    "print(\"From t-score table for t0.99 = -t.0.01 and DOF = 15 is : \",-t_score)"
   ]
  },
  {
   "cell_type": "markdown",
   "metadata": {},
   "source": [
    "### If a random sample of size 25 drawn from a normal population gives a mean of 60 and a standard deviation of 4, find the range of t-scores where we can expect to find the middle 95% of all sample means. Compute the probability that (−t0.05 <t<t0.10)."
   ]
  },
  {
   "cell_type": "code",
   "execution_count": 3,
   "metadata": {},
   "outputs": [
    {
     "name": "stdout",
     "output_type": "stream",
     "text": [
      "for t0.95 from t-table = 1.711 we need to find confidence interval\n",
      "Range is 58.6312 to 61.3688\n"
     ]
    }
   ],
   "source": [
    "# we have\n",
    "n=25\n",
    "mu=60\n",
    "std = 4\n",
    "print(\"for t0.95 from t-table = 1.711 we need to find confidence interval\")\n",
    "\n",
    "temp = 1.711*(4/n**0.5)\n",
    "\n",
    "print(\"Range is {} to {}\".format(60-temp,60+temp))"
   ]
  },
  {
   "cell_type": "markdown",
   "metadata": {},
   "source": [
    "### Two-tailed test for difference between two population means Is there evidence to conclude that the number of people travelling from Bangalore to Chennai is different from the number of people travelling from Bangalore to Hosur in a week, given the following: Population 1: Bangalore to Chennai n1 = 1200 x1 = 452 s1 = 212 Population 2: Bangalore to Hosur n2 = 800 x2 = 523 s2 = 185"
   ]
  },
  {
   "cell_type": "code",
   "execution_count": 2,
   "metadata": {},
   "outputs": [
    {
     "name": "stdout",
     "output_type": "stream",
     "text": [
      "n>30 in both the cases so we can apply z-test\n",
      "\n",
      " Question says its two tail test so we use alpha/2, assume alpha =0.5 \n",
      "\n",
      "z(0.025) = -2.81\n",
      "\n",
      " Z_test:  -7.926428526759299\n",
      "\n",
      " Reject null hypothesis H0\n"
     ]
    }
   ],
   "source": [
    "import math\n",
    "# H0: No. of people travelling from Banglore to Chennai = Number of people travelling from Banglore to Chennai\n",
    "# H1: No. of people travelling from Banglore to Chennai != Number of people travelling from Banglore to Chennai\n",
    "\n",
    "print(\"n>30 in both the cases so we can apply z-test\")\n",
    "n1 = 1200\n",
    "x1 = 452\n",
    "s1 = 212\n",
    "n2 = 800\n",
    "x2=523\n",
    "s2 = 185\n",
    "\n",
    "std_error = math.sqrt((((s1)**2)/n1)+(((s2)**2)/n2))\n",
    "z_test = (x1-x2)/std_error\n",
    "print(\"\\n Question says its two tail test so we use alpha/2, assume alpha =0.05 \")\n",
    "\n",
    "print(\"\\nz(0.025) = -2.81\")\n",
    "\n",
    "print(\"\\n Z_test: \",z_test)\n",
    "if(z_test < -2.81):\n",
    "    print(\"\\n Reject null hypothesis H0\")\n",
    "else:\n",
    "    print(\"Accept null hypothesis H0\")"
   ]
  },
  {
   "cell_type": "markdown",
   "metadata": {},
   "source": [
    "### Is there evidence to conclude that the number of people preferring Duracell battery is different from the number of people preferring Energizer battery, given the following: Population 1: Duracell n1 = 100 x1 = 308 s1 = 84 Population 2: Energizer n2 = 100 x2 = 254 s2 = 67"
   ]
  },
  {
   "cell_type": "code",
   "execution_count": 3,
   "metadata": {},
   "outputs": [
    {
     "name": "stdout",
     "output_type": "stream",
     "text": [
      "n>30 in both the cases so we can apply z-test\n",
      "\n",
      "  we assume alpha =0.05 \n",
      "\n",
      "z(0.05) = -1.65\n",
      "\n",
      " Z_test:  5.025702668336442\n",
      "Accept null hypothesis H0\n"
     ]
    }
   ],
   "source": [
    "import math\n",
    "# H0: No. of people preferring Duracell = Number of people preferring Energizer\n",
    "# H1: No. of people preferring Duracell != Number of people preferring Energizer\n",
    "\n",
    "print(\"n>30 in both the cases so we can apply z-test\")\n",
    "n1 = 100\n",
    "x1 = 308\n",
    "s1 = 84\n",
    "n2 = 100\n",
    "x2=  254\n",
    "s2 = 67\n",
    "\n",
    "std_error = math.sqrt((((s1)**2)/n1)+(((s2)**2)/n2))\n",
    "z_test = (x1-x2)/std_error\n",
    "print(\"\\n  we assume alpha =0.05 \")\n",
    "\n",
    "print(\"\\nz(0.05) = -1.65\")\n",
    "\n",
    "print(\"\\n Z_test: \",z_test)\n",
    "if(z_test < -1.65):\n",
    "    print(\"\\n Reject null hypothesis H0\")\n",
    "else:\n",
    "    print(\"Accept null hypothesis H0\")"
   ]
  },
  {
   "cell_type": "markdown",
   "metadata": {},
   "source": [
    "### Pooled estimate of the population variance Does the data provide sufficient evidence to conclude that average percentage increase in the price of sugar differs when it is sold at two different prices? Population 1: Price of sugar = Rs. 27.50 n1 = 14 x1 = 0.317% s1 = 0.12% Population 2: Price of sugar = Rs. 20.00 n2 = 9 x2 = 0.21% s2 = 0.11%"
   ]
  },
  {
   "cell_type": "code",
   "execution_count": 8,
   "metadata": {},
   "outputs": [
    {
     "name": "stdout",
     "output_type": "stream",
     "text": [
      " std_error 0.04968532879234398\n",
      "\n",
      " Degree of freedom:  21\n",
      "\n",
      " t(0.025) with dof = 21 is = 2.08\n",
      "\n",
      " t_stats:  2.15355322387416\n",
      "\n",
      " Reject null hypothesis H0\n"
     ]
    }
   ],
   "source": [
    "n1 = 14\n",
    "x1 = 0.317\n",
    "s1 = 0.12\n",
    "\n",
    "n2 = 9\n",
    "x2 = 0.21\n",
    "s2 =0.11\n",
    "\n",
    "# H0 :  mu1-mu2 =0\n",
    "# H2: mu1-mu2!=0\n",
    "\n",
    "s12 = math.sqrt(((((s1)**2)*(n1-1))+(((s2)**2)*(n2-1)))/(n1+n2-2))\n",
    "\n",
    "\n",
    "std_error = s12 * math.sqrt((1/n1)+(1/n2))\n",
    "\n",
    "print(\" std_error\",std_error)\n",
    "\n",
    "t_stats = abs(x1-x2)/std_error\n",
    "\n",
    "dof = n1+n2-2\n",
    "\n",
    "print(\"\\n Degree of freedom: \",dof)\n",
    "print(\"\\n t(0.025) with dof = {} is = 2.08\".format(dof))\n",
    "print(\"\\n t_stats: \",t_stats)\n",
    "\n",
    "if(t_stats > 2.08):\n",
    "    print(\"\\n Reject null hypothesis H0\")\n",
    "else:\n",
    "    print(\"Accept null hypothesis H0\")"
   ]
  },
  {
   "cell_type": "markdown",
   "metadata": {},
   "source": [
    "### The manufacturers of compact disk players want to test whether a small price reduction is enough to increase sales of their product. Is there evidence that the small price reduction is enough to increase sales of compact disk players? Population 1: Before reduction n1 = 15 x1 = Rs. 6598 s1 = Rs. 844 Population 2: After reduction n2 = 12 x2 = RS. 6870 s2 = Rs. 669"
   ]
  },
  {
   "cell_type": "code",
   "execution_count": 9,
   "metadata": {},
   "outputs": [
    {
     "name": "stdout",
     "output_type": "stream",
     "text": [
      " std_error 298.9569366982476\n",
      "\n",
      " Degree of freedom:  25\n",
      "\n",
      " t(0.05) with dof = 25 is = 1.708\n",
      "\n",
      " t_stats:  0.9098300343990459\n",
      "Accept null hypothesis H0\n"
     ]
    }
   ],
   "source": [
    "n1 =15\n",
    "x1 = 6598\n",
    "s1 = 844\n",
    "\n",
    "n2=12\n",
    "x2=6870\n",
    "s2 =669\n",
    "\n",
    "# H0: mu2-mu1<=0\n",
    "#H1:  mu2-mu1>0\n",
    "\n",
    "s12 = math.sqrt(((((s1)**2)*(n1-1))+(((s2)**2)*(n2-1)))/(n1+n2-2))\n",
    "\n",
    "\n",
    "std_error = s12 * math.sqrt((1/n1)+(1/n2))\n",
    "\n",
    "print(\" std_error\",std_error)\n",
    "\n",
    "t_stats = abs(x1-x2)/std_error\n",
    "\n",
    "dof = n1+n2-2\n",
    "\n",
    "print(\"\\n Degree of freedom: \",dof)\n",
    "print(\"\\n t(0.05) with dof = {} is = 1.708\".format(dof))\n",
    "print(\"\\n t_stats: \",t_stats)\n",
    "\n",
    "if(t_stats > 1.708):\n",
    "    print(\"\\n Reject null hypothesis H0\")\n",
    "else:\n",
    "    print(\"Accept null hypothesis H0\")\n"
   ]
  },
  {
   "cell_type": "markdown",
   "metadata": {},
   "source": [
    "### Comparisons of two population proportions when the hypothesized difference is zero Carry out a two-tailed test of the equality of banks’ share of the car loan market in 1980 and 1995. Population 1: 1980 n1 = 1000 x1 = 53 p 1 = 0.53 Population 2: 1985 n2 = 100 x2 = 43 p 2= 0.53"
   ]
  },
  {
   "cell_type": "code",
   "execution_count": 19,
   "metadata": {},
   "outputs": [
    {
     "name": "stdout",
     "output_type": "stream",
     "text": [
      "p_dash:  0.48\n",
      "denom:  0.004992\n",
      "Z-test value:  1.4153462926807452\n",
      "given its a two-tail test\n",
      "assume alpha = 0.1 so we find alpha/2 as 0.05, for which z(0.05) = 1.645\n",
      "Accept the null hypothesis, since ztest< z(0.05)\n"
     ]
    }
   ],
   "source": [
    "n1 = 100\n",
    "x1 = 53\n",
    "p1 = 0.53\n",
    "\n",
    "n2=100\n",
    "x2 = 43\n",
    "p2 = 0.43\n",
    "\n",
    "# H0: p1-p2 =0\n",
    "# H1: p1-p2 !=0\n",
    "\n",
    "p_dash = (x1+x2)/(n1+n2)\n",
    "\n",
    "print(\"p_dash: \",p_dash)\n",
    "\n",
    "denom = p_dash*(1-p_dash)*((n1+n2)/(n1*n2))\n",
    "\n",
    "print(\"denom: \",denom)\n",
    "\n",
    "z_test = (p1-p2)/math.sqrt(denom)\n",
    "\n",
    "print(\"Z-test value: \",z_test)\n",
    "\n",
    "print(\"given its a two-tail test\")\n",
    "print(\"assume alpha = 0.1 so we find alpha/2 as 0.05, for which z(0.05) = 1.645\")\n",
    "\n",
    "if(z_test < 1.645):\n",
    "    print(\"Accept the null hypothesis, since ztest< z(0.05)\")\n",
    "else:\n",
    "    print(\"Reject null hypothesis\")"
   ]
  },
  {
   "cell_type": "markdown",
   "metadata": {},
   "source": [
    "### Carry out a one-tailed test to determine whether the population proportion of traveler’s check buyers who buy at least 2500 dollar in checks when sweepstakes prizes are offered as at least 10% higher than the proportion of such buyers when no sweepstakes are on. Population 1: With sweepstakes n1 = 300 x1 = 120 p = 0.40 Population 2: No sweepstakes n2 = 700 x2 = 140 p 2= 0.20"
   ]
  },
  {
   "cell_type": "code",
   "execution_count": 20,
   "metadata": {},
   "outputs": [
    {
     "name": "stdout",
     "output_type": "stream",
     "text": [
      "One-tail test\n",
      "z_test:  3.1180478223116177\n",
      "assume alpha = 0.001 so z(0.001) = 3.09\n",
      "Reject null hypothesis\n"
     ]
    }
   ],
   "source": [
    "print(\"One-tail test\")\n",
    "\n",
    "n1 = 300\n",
    "x1 = 120\n",
    "p1 = 0.4\n",
    "\n",
    "n2 = 700\n",
    "x2 = 140\n",
    "p2 = 0.2\n",
    "\n",
    "# H0: p1-p2<=0.1 => p1-p2-0.1<=0\n",
    "# H1: p1-p2 >0.1\n",
    "\n",
    "denom = math.sqrt(((p1*(1-p1))/n1)+((p2*(1-p2))/n2))\n",
    "\n",
    "z_test = ((p1-p2)-0.1)/denom\n",
    "\n",
    "print(\"z_test: \",z_test)\n",
    "print(\"assume alpha = 0.001 so z(0.001) = 3.09\")\n",
    "\n",
    "if(z_test < 1.645):\n",
    "    print(\"Accept the null hypothesis, since ztest< z(0.05)\")\n",
    "else:\n",
    "    print(\"Reject null hypothesis\")\n"
   ]
  },
  {
   "cell_type": "markdown",
   "metadata": {},
   "source": [
    "### A die is thrown 132 times with the following results: Number turned up: 1, 2, 3, 4, 5, 6 Frequency: 16, 20, 25, 14, 29, 28 Is the die unbiased? Consider the degrees of freedom as p − 1."
   ]
  },
  {
   "cell_type": "code",
   "execution_count": 25,
   "metadata": {},
   "outputs": [
    {
     "name": "stdout",
     "output_type": "stream",
     "text": [
      "Expected:  22.0\n",
      "Calculated chi_square:  9.0\n",
      "\n",
      "choosing alpha as 0.05\n",
      "\n",
      "Critical value: from table chi-square value at 5% significance level and dof = 5 is =11 \n",
      "Decision: \n",
      "Null hypothesis accepted since chi-square < critical value\n"
     ]
    }
   ],
   "source": [
    "# H0: the die is unbiased\n",
    "# H1: the die is biased\n",
    "\n",
    "# According to null hypothesis the die is unbiased so every result will have same frequecy\n",
    "\n",
    "observed = [16, 20, 25, 14, 29, 28]\n",
    "Expected = 132/6\n",
    "print(\"Expected: \",Expected)\n",
    "n=6\n",
    "chi_square  =0\n",
    "for ob in observed:\n",
    "    chi_square+=(((ob-Expected)**2)/Expected)\n",
    "\n",
    "print(\"Calculated chi_square: \",chi_square)    \n",
    "print(\"\\nchoosing alpha as 0.05\")\n",
    "print(\"\\nCritical value: from table chi-square value at 5% significance level and dof = {} is ={} \".format(n-1,11))\n",
    "\n",
    "print(\"Decision: \")\n",
    "if(chi_square < 11.0):\n",
    "    print(\"Null hypothesis accepted since chi-square < critical value\")\n",
    "else:\n",
    "    print(\"Null hypothesis rejected\")"
   ]
  },
  {
   "cell_type": "markdown",
   "metadata": {},
   "source": [
    "### Problem 18: \n",
    "### In a certain town, there are about one million eligible voters. A simple random sample of 10,000 eligible voters was chosen to study the relationship between gender and participation in the last election. The results are summarized in the following 2X2 (read two by two) contingency table:\n",
    "\n",
    "### We would want to check whether being a man or a woman (columns) is independent of having voted in the last election (rows). In other words, is “gender and voting independent”?"
   ]
  },
  {
   "cell_type": "code",
   "execution_count": 51,
   "metadata": {},
   "outputs": [
    {
     "name": "stdout",
     "output_type": "stream",
     "text": [
      "            Men  Women\n",
      "                      \n",
      "Voted      2792   3591\n",
      "Not Voted  1486   2131\n",
      "                 Men      Women\n",
      "Voted      2730.6474  3652.3526\n",
      "Not Voted  1547.3526  2069.6474\n",
      "X2- stats:  6.552337973968181\n",
      "p-value:  0.01047464310091866\n",
      "dof:  1\n",
      "assume alpha value as 0.05, from table we get x2 value as 3.84\n",
      "Null hypothesis rejected\n"
     ]
    }
   ],
   "source": [
    "import pandas as pd\n",
    "\n",
    "Men = [2792,1486]\n",
    "Women =[3591,2131]\n",
    "\n",
    "Vote = [\"Voted\",\"Not Voted\"]\n",
    "\n",
    "table = pd.DataFrame({\"Voting\":Vote,\"Men\":Men,\"Women\":Women})\n",
    "table.set_index([\"Voting\"],drop=True,inplace=True)\n",
    "\n",
    "table.index.name =\"\"\n",
    "print(table)\n",
    "\n",
    "from scipy.stats import chi2_contingency\n",
    "from scipy.stats import chi2\n",
    "\n",
    "\n",
    "stats,p,dof,expected = chi2_contingency(observed=table)\n",
    "\n",
    "print(pd.DataFrame(expected,index=['Voted',\"Not Voted\"],columns = [\"Men\",\"Women\"]))\n",
    "\n",
    "\n",
    "print(\"X2- stats: \",stats)\n",
    "print(\"p-value: \",p)\n",
    "print(\"dof: \",dof)\n",
    "print(\"assume alpha value as 0.05, from table we get x2 value as 3.84\")\n",
    "\n",
    "if(stats < 3.84):\n",
    "    print(\"Null hypothesis accepted since chi-square < critical value\")\n",
    "else:\n",
    "    print(\"Null hypothesis rejected\")"
   ]
  },
  {
   "cell_type": "markdown",
   "metadata": {},
   "source": [
    "### A sample of 100 voters are asked which of four candidates they would vote for in an election. The number supporting each candidate is given below:\n",
    "### Do the data suggest that all candidates are equally popular? [Chi-Square = 14.96, with 3 df, p 0.05 ]"
   ]
  },
  {
   "cell_type": "code",
   "execution_count": 56,
   "metadata": {},
   "outputs": [
    {
     "name": "stdout",
     "output_type": "stream",
     "text": [
      "We have given chi-square value as 14.96\n",
      "dof = 3\n",
      "p=0.05\n",
      "Assume alpha = 0.05 then\n",
      "Verifying given data with formula\n",
      "Expected:  25.0\n",
      "Calculated chi_square:  14.959999999999999\n",
      "\n",
      " from table with dof as 3 and alpha as 0.05 we get x2 as 7.815\n",
      "\n",
      " Since x2_test > x2(0.05)\n",
      "We reject null hypothesis\n",
      "Result:- reject null hypothesis (Not All Candidates are equally popular)\n"
     ]
    }
   ],
   "source": [
    "print(\"We have given chi-square value as 14.96\")\n",
    "print(\"dof = 3\")\n",
    "print(\"p=0.05\")\n",
    "print(\"Assume alpha = 0.05 then\")\n",
    "print(\"Verifying given data with formula\")\n",
    "\n",
    "# H_{0}= All candidates are equally popular\n",
    "# H_{1}=All candidates are not equally popular\n",
    "\n",
    "from scipy.stats import chi2_contingency\n",
    "from scipy.stats import chi2\n",
    "\n",
    "indx =[\"Higgins\",\"Reardon\",\"White\",\"Charlton\"]\n",
    "freq = [41,19,24,16]\n",
    "\n",
    "Expected = sum(freq)/4\n",
    "print(\"Expected: \",Expected)\n",
    "n=4\n",
    "chi_square  =0\n",
    "for ob in freq:\n",
    "    chi_square+=(((ob-Expected)**2)/Expected)\n",
    "\n",
    "print(\"Calculated chi_square: \",chi_square)    \n",
    "\n",
    "print(\"\\n from table with dof as 3 and alpha as 0.05 we get x2 as 7.815\")\n",
    "print(\"\\n Since x2_test > x2(0.05)\")\n",
    "print(\"We reject null hypothesis\")\n",
    "print(\"Result:- reject null hypothesis (Not All Candidates are equally popular)\")"
   ]
  },
  {
   "cell_type": "markdown",
   "metadata": {},
   "source": [
    "### Children of three ages are asked to indicate their preference for three photographs of adults. Do the data suggest that there is a significant relationship between age and photograph preference? What is wrong with this study? [Chi-Square = 29.6, with 4 df: p < 0.05]."
   ]
  },
  {
   "cell_type": "code",
   "execution_count": 59,
   "metadata": {},
   "outputs": [
    {
     "name": "stdout",
     "output_type": "stream",
     "text": [
      "            A   B   C\n",
      "                     \n",
      "5-6years   18  22  20\n",
      "7-8years    2  28  40\n",
      "9-10years  20  10  40\n",
      "              A     B     C\n",
      "5-6years   12.0  18.0  30.0\n",
      "7-8years   14.0  21.0  35.0\n",
      "9-10years  14.0  21.0  35.0\n",
      "\n",
      "X2- stats:  29.603174603174608\n",
      "\n",
      "p-value:  5.894582174262606e-06\n",
      "\n",
      "dof:  4\n",
      "\n",
      "assume alpha value as 0.05, from table we get x2 for calucated dof value is 18.47\n",
      "\n",
      "Null hypothesis rejected\n",
      "\n",
      "Result:- Rejects null Hypothesis (There is no significance relationship between age and photograph preference)\n"
     ]
    }
   ],
   "source": [
    "import pandas as pd\n",
    "\n",
    "Data = [\"5-6years\",\"7-8years\",\"9-10years\"]\n",
    "A =[18,2,20]\n",
    "B =[22,28,10]\n",
    "C =[20,40,40]\n",
    "\n",
    "\n",
    "table = pd.DataFrame({\"Data\":Data,\"A\":A,\"B\":B,\"C\":C})\n",
    "table.set_index([\"Data\"],drop=True,inplace=True)\n",
    "\n",
    "table.index.name =\"\"\n",
    "print(table)\n",
    "\n",
    "from scipy.stats import chi2_contingency\n",
    "from scipy.stats import chi2\n",
    "\n",
    "\n",
    "stats,p,dof,expected = chi2_contingency(observed=table)\n",
    "\n",
    "print(pd.DataFrame(expected,index=Data,columns = [\"A\",\"B\",\"C\"]))\n",
    "\n",
    "\n",
    "print(\"\\nX2- stats: \",stats)\n",
    "print(\"\\np-value: \",p)\n",
    "print(\"\\ndof: \",dof)\n",
    "print(\"\\nassume alpha value as 0.05, from table we get x2 for calucated dof value is 18.47\")\n",
    "\n",
    "if(stats < 18.47):\n",
    "    print(\"\\nNull hypothesis accepted since chi-square < critical value\")\n",
    "else:\n",
    "    print(\"\\nNull hypothesis rejected\")\n",
    "    print(\"\\nResult:- Rejects null Hypothesis (There is no significance relationship between age and photograph preference)\")"
   ]
  },
  {
   "cell_type": "markdown",
   "metadata": {},
   "source": [
    "### A study of conformity using the Asch paradigm involved two conditions: one where one confederate supported the true judgement and another where no confederate gave the correct response.\n",
    "\n",
    "### Is there a significant difference between the \"support\" and \"no support\" conditions in the frequency with which individuals are likely to conform? [Chi-Square = 19.87, with 1 df: p < 0.05]."
   ]
  },
  {
   "cell_type": "code",
   "execution_count": 64,
   "metadata": {},
   "outputs": [
    {
     "name": "stdout",
     "output_type": "stream",
     "text": [
      "             Support  Not Support\n",
      "                                 \n",
      "Confirm           18           40\n",
      "Not Confirm       32           10\n",
      "--------------------------------------------------\n",
      "Expected:\n",
      "             Support  Not Support\n",
      "Confirm         29.0         29.0\n",
      "Not Confirm     21.0         21.0\n",
      "--------------------------------------------------\n",
      "\n",
      "X2- stats:  18.10344827586207\n",
      "\n",
      "p-value:  2.092221924065813e-05\n",
      "\n",
      "dof:  1\n",
      "\n",
      "assume alpha value as 0.001, from table we get x2 for calucated dof value is 10.83\n",
      "\n",
      "Null hypothesis rejected\n",
      "\n",
      "Result: Rejects null Hypothesis( there is NO significant difference between the \"support\" and \"no support\" conditions in the frequency with which individare likely to conform)\n"
     ]
    }
   ],
   "source": [
    "import pandas as pd\n",
    "\n",
    "Data = [\"Confirm\",\"Not Confirm\"]\n",
    "A =[18,32]\n",
    "B =[40,10]\n",
    "\n",
    "\n",
    "table = pd.DataFrame({\"Support\":A,\"Not Support\":B},index = Data)\n",
    "#table.set_index([\"Data\"],drop=True,inplace=True)\n",
    "\n",
    "table.index.name =\"\"\n",
    "print(table)\n",
    "\n",
    "from scipy.stats import chi2_contingency\n",
    "from scipy.stats import chi2\n",
    "\n",
    "\n",
    "stats,p,dof,expected = chi2_contingency(observed=table)\n",
    "print(\"-\"*50)\n",
    "print(\"Expected:\")\n",
    "print(pd.DataFrame(expected,index=Data,columns = [\"Support\",\"Not Support\"]))\n",
    "\n",
    "print(\"-\"*50)\n",
    "print(\"\\nX2- stats: \",stats)\n",
    "print(\"\\np-value: \",p)\n",
    "print(\"\\ndof: \",dof)\n",
    "print(\"\\nassume alpha value as 0.001, from table we get x2 for calucated dof value is 10.83\")\n",
    "\n",
    "if(stats < 10.83):\n",
    "    print(\"\\nNull hypothesis accepted since chi-square < critical value\")\n",
    "else:\n",
    "    print(\"\\nNull hypothesis rejected\")\n",
    "    print(\"\\nResult: Rejects null Hypothesis( there is NO significant difference between the \\\"support\\\" and \\\"no support\\\" conditions in the frequency with which individare likely to conform)\")"
   ]
  },
  {
   "cell_type": "markdown",
   "metadata": {},
   "source": [
    "### We want to test whether short people differ with respect to their leadership qualities (Genghis Khan, Adolf Hitler and Napoleon were all stature-deprived, and how many midget MP's are there?) The following table shows the frequencies with which 43 short people and 52 tall people were categorized as \"leaders\", \"followers\" or as \"unclassifiable\". Is there a relationship between height and leadership qualities? [Chi-Square = 10.71, with 2 df: p < 0.01]."
   ]
  },
  {
   "cell_type": "code",
   "execution_count": 66,
   "metadata": {},
   "outputs": [
    {
     "name": "stdout",
     "output_type": "stream",
     "text": [
      "                Short  Tall\n",
      "                           \n",
      "Leader             12    32\n",
      "Follower           22    14\n",
      "Unclassifiable      9     6\n",
      "--------------------------------------------------\n",
      "Expected:\n",
      "                    Short       Tall\n",
      "Leader          19.915789  24.084211\n",
      "Follower        16.294737  19.705263\n",
      "Unclassifiable   6.789474   8.210526\n",
      "--------------------------------------------------\n",
      "\n",
      "X2- stats:  10.712198008709638\n",
      "\n",
      "p-value:  0.004719280137040844\n",
      "\n",
      "dof:  2\n",
      "\n",
      "assume alpha value as 0.01, from table we get x2 for calucated dof value is 9.21\n",
      "\n",
      "Null hypothesis rejected\n",
      "\n",
      "Result:- Reject null hypothesis (No Relationship between height and leadership quality)\n"
     ]
    }
   ],
   "source": [
    "#H_{0} = Relationship between height and leadership quality\n",
    "\n",
    "# H_{1} = No Relationship between height and leadership quality\n",
    "\n",
    "import pandas as pd\n",
    "\n",
    "Data = [\"Leader\",\"Follower\",\"Unclassifiable\"]\n",
    "A =[12,22,9]\n",
    "B =[32,14,6]\n",
    "\n",
    "\n",
    "table = pd.DataFrame({\"Short\":A,\"Tall\":B},index = Data)\n",
    "#table.set_index([\"Data\"],drop=True,inplace=True)\n",
    "\n",
    "table.index.name =\"\"\n",
    "print(table)\n",
    "\n",
    "from scipy.stats import chi2_contingency\n",
    "from scipy.stats import chi2\n",
    "\n",
    "\n",
    "stats,p,dof,expected = chi2_contingency(observed=table)\n",
    "print(\"-\"*50)\n",
    "print(\"Expected:\")\n",
    "print(pd.DataFrame(expected,index=Data,columns = [\"Short\",\"Tall\"]))\n",
    "\n",
    "print(\"-\"*50)\n",
    "print(\"\\nX2- stats: \",stats)\n",
    "print(\"\\np-value: \",p)\n",
    "print(\"\\ndof: \",dof)\n",
    "print(\"\\nassume alpha value as 0.01, from table we get x2 for calucated dof value is 9.21\")\n",
    "\n",
    "if(stats < 9.21):\n",
    "    print(\"\\nNull hypothesis accepted since chi-square < critical value\")\n",
    "else:\n",
    "    print(\"\\nNull hypothesis rejected\")\n",
    "    print(\"\\nResult:- Reject null hypothesis (No Relationship between height and leadership quality)\")"
   ]
  },
  {
   "cell_type": "markdown",
   "metadata": {},
   "source": [
    "### Each respondent in the Current Population Survey of March 1993 was classified as employed, unemployed, or outside the labor force. The results for men in California age 35-44 can be cross-tabulated by marital status, as follows: Men of different marital status seem to have different distributions of labor force status. Or is this just chance variation? (you may assume the table results from a simple random sample.)"
   ]
  },
  {
   "cell_type": "code",
   "execution_count": 70,
   "metadata": {},
   "outputs": [
    {
     "name": "stdout",
     "output_type": "stream",
     "text": [
      "                     Married  Widow,Divorced or separated  Not Married\n",
      "                                                                      \n",
      "Employed                 679                          103          114\n",
      "Unemployed                63                           10           20\n",
      "Not in labour force       42                           18           25\n",
      "--------------------------------------------------\n",
      "Expected:\n",
      "                        Married  Widow,Divorced or separated  Not Married\n",
      "Employed             654.063315                   109.288641   132.648045\n",
      "Unemployed            67.888268                    11.343575    13.768156\n",
      "Not in labour force   62.048417                    10.367784    12.583799\n",
      "--------------------------------------------------\n",
      "\n",
      "X2- stats:  31.61310319407798\n",
      "\n",
      "p-value:  2.2949883042859918e-06\n",
      "\n",
      "dof:  4\n",
      "\n",
      "assume alpha value as 0.05, from table we get x2 for calucated dof value is 9.488\n",
      "\n",
      "Null hypothesis rejected\n",
      "\n",
      "Result:- Rejects null hypothesis (Men of different marital affair should have same distribution)\n"
     ]
    }
   ],
   "source": [
    "#H_{0} = Relationship between height and leadership quality\n",
    "\n",
    "# H_{1} = No Relationship between height and leadership quality\n",
    "\n",
    "import pandas as pd\n",
    "\n",
    "Data = [\"Employed\",\"Unemployed\",\"Not in labour force\"]\n",
    "A =[679,63,42]\n",
    "B =[103,10,18]\n",
    "C = [114,20,25]\n",
    "\n",
    "\n",
    "\n",
    "table = pd.DataFrame({\"Married\":A,\"Widow,Divorced or separated\":B,\"Not Married\":C},index = Data)\n",
    "#table.set_index([\"Data\"],drop=True,inplace=True)\n",
    "\n",
    "table.index.name =\"\"\n",
    "print(table)\n",
    "\n",
    "from scipy.stats import chi2_contingency\n",
    "from scipy.stats import chi2\n",
    "\n",
    "\n",
    "stats,p,dof,expected = chi2_contingency(observed=table)\n",
    "print(\"-\"*50)\n",
    "print(\"Expected:\")\n",
    "print(pd.DataFrame(expected,index=Data,columns = [\"Married\",\"Widow,Divorced or separated\",\"Not Married\"]))\n",
    "\n",
    "print(\"-\"*50)\n",
    "print(\"\\nX2- stats: \",stats)\n",
    "print(\"\\np-value: \",p)\n",
    "print(\"\\ndof: \",dof)\n",
    "print(\"\\nassume alpha value as 0.05, from table we get x2 for calucated dof value is 9.488\")\n",
    "\n",
    "if(stats < 9.488):\n",
    "    print(\"\\nNull hypothesis accepted since chi-square < critical value\")\n",
    "else:\n",
    "    print(\"\\nNull hypothesis rejected\")\n",
    "    print(\"\\nResult:- Rejects null hypothesis (Men of different marital affair should have same distribution)\")"
   ]
  },
  {
   "cell_type": "code",
   "execution_count": null,
   "metadata": {},
   "outputs": [],
   "source": []
  }
 ],
 "metadata": {
  "kernelspec": {
   "display_name": "Python 3",
   "language": "python",
   "name": "python3"
  },
  "language_info": {
   "codemirror_mode": {
    "name": "ipython",
    "version": 3
   },
   "file_extension": ".py",
   "mimetype": "text/x-python",
   "name": "python",
   "nbconvert_exporter": "python",
   "pygments_lexer": "ipython3",
   "version": "3.7.3"
  }
 },
 "nbformat": 4,
 "nbformat_minor": 4
}
