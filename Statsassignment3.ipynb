{
 "cells": [
  {
   "cell_type": "markdown",
   "metadata": {},
   "source": [
    "## Blood glucose levels for obese patients have a mean of 100 with a standard deviation of 15. A researcher thinks that a diet high in raw cornstarch will have a positive effect on blood glucose levels. A sample of 36 patients who have tried the raw cornstarch diet have a mean glucose level of 108. Test the hypothesis that the raw cornstarch had an effect or not."
   ]
  },
  {
   "cell_type": "code",
   "execution_count": 8,
   "metadata": {},
   "outputs": [
    {
     "name": "stdout",
     "output_type": "stream",
     "text": [
      "Step1: State the hypothesis, mu = 100\n",
      "\t H0: mu = 100\n",
      "\t H1: mu != 100\n",
      "\n",
      "Step2: Since significance level is not given, so let us assume it as 5% i.e alpha = 0.05 \n",
      "\t so the Confidence level is 95%\n",
      "\n",
      "Step3: Calculate z value with given data\n",
      "\tZ score is:  3.2\n",
      "\tFrom Z- table we get value corresponding to Z value as 0.9993\n",
      "\tThis suggest that probability of having value < 108 is 0.9993 and >= 108 is (1-0.9993)=0.0007.\n",
      "\n",
      "Step4: Since the probability of having mean glucose level more than or equals to 108  is 0.0007 which is  less than 0.05 so we will reject the Null hypothesis i.e. there is raw cornstarch effect.\n"
     ]
    }
   ],
   "source": [
    "import math\n",
    "\n",
    "sample_size = 36\n",
    "sample_mean = 108\n",
    "population_mean = 100\n",
    "population_std = 15\n",
    "\n",
    "# Steps to solve this problem\n",
    "\n",
    "print(\"Step1: State the hypothesis, mu = 100\")\n",
    "print(\"\\t H0: mu = 100\")\n",
    "print(\"\\t H1: mu != 100\")\n",
    "print(\"\\nStep2: Since significance level is not given, so let us assume it as 5% i.e alpha = 0.05 \")\n",
    "print(\"\\t so the Confidence level is 95%\")\n",
    "print(\"\\nStep3: Calculate z value with given data\")\n",
    "Z = (sample_mean-population_mean)/(population_std/math.sqrt(sample_size))\n",
    "print(\"\\tZ score is: \",Z)\n",
    "print(\"\\tFrom Z- table we get value corresponding to Z value as\",0.9993)\n",
    "print(\"\\tThis suggest that probability of having value < 108 is 0.9993 and >= 108 is (1-0.9993)=0.0007.\")\n",
    "print(\"\\nStep4: Since the probability of having mean glucose level more than or equals to 108  is 0.0007 which is  less than 0.05 so we will reject the Null hypothesis i.e. there is raw cornstarch effect.\")"
   ]
  },
  {
   "cell_type": "markdown",
   "metadata": {},
   "source": [
    "## In one state, 52% of the voters are Republicans, and 48% are Democrats. In a second state, 47% of the voters are Republicans, and 53% are Democrats. Suppose a simple random sample of 100 voters are surveyed from each state. What is the probability that the survey will show a greater percentage of Republican voters in the second state than in the first state?"
   ]
  },
  {
   "cell_type": "code",
   "execution_count": 13,
   "metadata": {},
   "outputs": [
    {
     "name": "stdout",
     "output_type": "stream",
     "text": [
      "Mean mu :  0.050000000000000044 \t Standard Deviation Std :  0.07061869440877536\n",
      "\n",
      "Z_score(p1,p2) :  -0.7080278164104213\n",
      "\n",
      "From Z table we find that the probability of a z-score being -0.7082 or less is 0.24.\n",
      "\n",
      "Therefore, the probability that the survey will show a greater percentage of Republican voters in the second state than in the first state is 0.24.\n"
     ]
    }
   ],
   "source": [
    "#let :-\n",
    "#P1 = the proportion of Republican voters in the first state\n",
    "#Q1 = the proportion of Democrates voters in the first state\n",
    "#P2 = the proportion of Republican voters in the second state\n",
    "#Q2 = the proportion of Democrates voters in the second state\n",
    "#p1 = the proportion of Republican voters in the sample from the first state\n",
    "#p2 = the proportion of Republican voters in the sample from the second state. \n",
    "\n",
    "#The sample of voters from the first state (n1) = 100\n",
    "n1 = 100\n",
    "#The sample of voters from the second state (n2) = 100.\n",
    "n2 = 100\n",
    "\n",
    "P1 = 0.52\n",
    "#(1 - P1) = Q1\n",
    "Q1 = 0.48\n",
    "P2 = 0.47\n",
    "#(1 - P2) = Q2\n",
    "Q2 = 0.53\n",
    "\n",
    "\n",
    "#The mean of the difference in sample proportions .i.e Expected Value E[p1 -p2] = P1 - P2 = mu\n",
    "mu =  P1 - P2\n",
    "\n",
    "#The standard deviation of the difference (std)\n",
    "std = math.sqrt(((P1 * Q1 ) / n1) + ((P2 * Q2) /n2))\n",
    "print(\"Mean mu : \",mu,\"\\t Standard Deviation Std : \",std)\n",
    "\n",
    "#This problem requires us to find the probability that p1 is less than p2. \n",
    "#This is equivalent to finding the probability that p1 - p2 < 0. \n",
    "x = 0\n",
    "#To find this probability, we need to transform the random variable (p1 - p2) into a z-score. \n",
    "#That transformation appears below.\n",
    "Z_p1_p2 = ( x - mu)/std\n",
    "\n",
    "print(\"\\nZ_score(p1,p2) : \",Z_p1_p2)\n",
    "\n",
    "print(\"\\nFrom Z table we find that the probability of a z-score being -0.7082 or less is 0.24.\")\n",
    "\n",
    "print(\"\\nTherefore, the probability that the survey will show a greater percentage of Republican voters in the second state than in the first state is 0.24.\")"
   ]
  },
  {
   "cell_type": "markdown",
   "metadata": {},
   "source": [
    "## You take the SAT and score 1100. The mean score for the SAT is 1026 and the standard deviation is 209. How well did you score on the test compared to the average test taker?"
   ]
  },
  {
   "cell_type": "code",
   "execution_count": 2,
   "metadata": {},
   "outputs": [
    {
     "name": "stdout",
     "output_type": "stream",
     "text": [
      "So your score was 0.35406698564593303 above the mean\n"
     ]
    }
   ],
   "source": [
    "mu = 1026\n",
    "x = 1100\n",
    "std = 209\n",
    "Z = (x-mu)/std\n",
    "print(\"Z score: \",Z)\n",
    "print(\"So my score was {} above the mean\".format(Z))\n"
   ]
  },
  {
   "cell_type": "code",
   "execution_count": null,
   "metadata": {},
   "outputs": [],
   "source": []
  }
 ],
 "metadata": {
  "kernelspec": {
   "display_name": "Python 3.7.3 64-bit",
   "language": "python",
   "name": "python37364bite4ae7bf0ee5243e58af88af401603573"
  },
  "language_info": {
   "codemirror_mode": {
    "name": "ipython",
    "version": 3
   },
   "file_extension": ".py",
   "mimetype": "text/x-python",
   "name": "python",
   "nbconvert_exporter": "python",
   "pygments_lexer": "ipython3",
   "version": "3.7.3"
  }
 },
 "nbformat": 4,
 "nbformat_minor": 2
}
