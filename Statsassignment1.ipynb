{
 "cells": [
  {
   "cell_type": "markdown",
   "metadata": {},
   "source": [
    "# Statistics Assignment 1 (parts of solution is also in comments)"
   ]
  },
  {
   "cell_type": "markdown",
   "metadata": {},
   "source": [
    "## Calculate the mean, median, mode and standard deviation for the problem statements 1& 2. The marks awarded for an assignment set for a Year 8 class of 20 students were as follows\n",
    "## 6 7 5 7 7 8 7 6 9 7 4 10 6 8 8 9 5 6 4 8"
   ]
  },
  {
   "cell_type": "code",
   "execution_count": 21,
   "metadata": {},
   "outputs": [
    {
     "name": "stdout",
     "output_type": "stream",
     "text": [
      "Mean:  6.894736842105263\n",
      "Median  7.0\n",
      "Mode:  7\n",
      "Standard deviation 1.6631541934965108\n"
     ]
    }
   ],
   "source": [
    "x = [6,7,5,7,7,8,7,6,9,7,4,10,6,8,8,9,5,4,8]\n",
    "\n",
    "\n",
    "import numpy as np\n",
    "#Calculating mean\n",
    "mean = np.mean(x)\n",
    "print(\"Mean: \",mean)\n",
    "\n",
    "#Calculating median\n",
    "median = np.median(x)\n",
    "print(\"Median \",median)\n",
    "\n",
    "import statistics\n",
    "\n",
    "#Calculating mode\n",
    "print(\"Mode: \",statistics.mode(x))  \n",
    "\n",
    "print(\"Standard deviation\", statistics.stdev(x))"
   ]
  },
  {
   "cell_type": "markdown",
   "metadata": {},
   "source": [
    "## The number of calls from motorists per day for roadside service was recorded for a particular month:\n",
    "## 28, 122, 217, 130, 120, 86, 80, 90, 140, 120, 70, 40, 145, 113, 90, 68, 174, 194, 170, 100, 75, 104, 97, 75, 123, 100, 75, 104, 97, 75, 123, 100, 89, 120, 109"
   ]
  },
  {
   "cell_type": "code",
   "execution_count": 23,
   "metadata": {},
   "outputs": [
    {
     "name": "stdout",
     "output_type": "stream",
     "text": [
      "Mean:  107.51428571428572\n",
      "Median  100\n",
      "Mode:  75\n",
      "Standard deviation 39.33892805484412\n"
     ]
    }
   ],
   "source": [
    "month = [28, 122, 217, 130, 120, 86, 80, 90, 140, 120, 70, 40, 145, 113, 90, 68, 174, 194, 170, 100, 75, 104, 97, 75, 123, 100, 75, 104, 97, 75, 123, 100, 89, 120, 109]\n",
    "\n",
    "import statistics\n",
    "#Calculating mean\n",
    "mean = statistics.mean(month)\n",
    "print(\"Mean: \",mean)\n",
    "\n",
    "#Calculating median\n",
    "median = statistics.median(month)\n",
    "print(\"Median \",median)\n",
    "\n",
    "#Calculating mode\n",
    "print(\"Mode: \",statistics.mode(month))  \n",
    "print(\"Standard deviation\", statistics.stdev(month))"
   ]
  },
  {
   "cell_type": "markdown",
   "metadata": {},
   "source": [
    "## The number of times I go to the gym in weekdays, are given below along with its associated probability:\n",
    "## x = 0, 1, 2, 3, 4, 5\n",
    "## f(x) = 0.09, 0.15, 0.40, 0.25, 0.10, 0.01\n",
    "## Calculate the mean no. of workouts in a week. Also evaluate the variance involved in it."
   ]
  },
  {
   "cell_type": "code",
   "execution_count": 24,
   "metadata": {},
   "outputs": [
    {
     "name": "stdout",
     "output_type": "stream",
     "text": [
      "Mean:  2.15\n",
      "Variance:  1.2275\n"
     ]
    }
   ],
   "source": [
    "x = [0, 1, 2, 3, 4, 5]\n",
    "f_x =[0.09, 0.15, 0.40, 0.25, 0.10, 0.01]\n",
    "mean=0\n",
    "mean_x2=0\n",
    "variance=0\n",
    "for i in range(len(x)):\n",
    "    mean+=x[i]*f_x[i]\n",
    "    mean_x2+=(x[i]**2)*f_x[i]\n",
    "variance = mean_x2 - (mean**2)\n",
    "\n",
    "print(\"Mean: \",mean)\n",
    "print(\"Variance: \",variance)\n",
    "    "
   ]
  },
  {
   "cell_type": "markdown",
   "metadata": {},
   "source": [
    "## Let the continuous random variable D denote the diameter of the hole drilled in analuminum sheet. The target diameter to be achieved is 12.5mm. Randomdisturbances in the process often result in inaccuracy. Historical data shows that the distribution of D can be modelled by the PDF (d) =20e−20(d−12.5), d ≥ 12.5. If a part with diameter > 12.6 mm needs to be scrapped,what is the proportion of those parts? What is the CDF when the diameter is of 11mm? What is your conclusion regarding the proportion of scraps?"
   ]
  },
  {
   "cell_type": "code",
   "execution_count": 30,
   "metadata": {},
   "outputs": [
    {
     "name": "stdout",
     "output_type": "stream",
     "text": [
      "Proportion of those parts is:  0.13533528323661398\n",
      "Since we have d>=12.5 so for any d<12.5,CDF is 0 i.e F(x) = 0\n",
      "with 0.13533528323661398 proportion of scrapped part is larger for diameter > 12.6\n"
     ]
    }
   ],
   "source": [
    "# f(d) = 20 * e**(-20*(d-12.5)), d>=12.5\n",
    "\n",
    "from scipy.integrate import quad\n",
    "\n",
    "def fun(d):\n",
    "    return 20*np.exp(-20*(d-12.5))\n",
    "\n",
    "p_x_gt_126 = quad(fun,12.6,np.inf)\n",
    "\n",
    "print(\"Proportion of those parts is: \",p_x_gt_126[0])\n",
    "\n",
    "print(\"Since we have d>=12.5 so for any d<12.5,CDF is 0 i.e F(x) = 0\")\n",
    "\n",
    "print(\"with\",p_x_gt_126[0],\"proportion of scrapped part is larger for diameter > 12.6\")"
   ]
  },
  {
   "cell_type": "markdown",
   "metadata": {},
   "source": [
    "### A company manufactures LED bulbs with a faulty rate of 30%. If I randomly select 6 chosen LEDs, what is the probability of having 2 faulty LEDs in my sample? Calculate the average value of this process. Also evaluate the standard deviation associated with it."
   ]
  },
  {
   "cell_type": "code",
   "execution_count": 35,
   "metadata": {},
   "outputs": [
    {
     "name": "stdout",
     "output_type": "stream",
     "text": [
      "Probability of having 2 faulty LEDs in the sample is:  0.32413499999999995\n",
      "\n",
      "\n",
      "Average value/ mean is given by np:  1.7999999999999998\n",
      "Standard deviation is:  1.1224972160321822\n",
      "\n",
      "\n",
      "----------Using functions:------------ \n",
      "Mean:  1.7999999999999998\n",
      "Standard deviation:  1.1224972160321822\n"
     ]
    }
   ],
   "source": [
    "# Given\n",
    "\n",
    "p = 0.3 # P(faulty bulbs)\n",
    "q =0.7 #P(not faulty bulbs)\n",
    "n =6 #number of Trails\n",
    "x = 2 # number of trails that will be succeeded\n",
    "\n",
    "# P(x) = nCx p^x * (1-p)^(n-x)\n",
    "# nCx = n!/((x)!*(n-x)!\n",
    "\n",
    "from scipy.stats import binom\n",
    "import math\n",
    "print(\"Probability of having 2 faulty LEDs in the sample is: \",binom.pmf(k=2,n=6,p=0.3))\n",
    "print(\"\\n\\nAverage value/ mean is given by np: \",n*p)    \n",
    "print(\"Standard deviation is: \",math.sqrt(n*p*q))\n",
    "\n",
    "print(\"\\n\\n----------Using functions:------------ \")\n",
    "mean,var = binom.stats(n=6,p=0.3)\n",
    "print(\"Mean: \",mean)\n",
    "print(\"Standard deviation: \",math.sqrt(var))\n",
    "    "
   ]
  },
  {
   "cell_type": "markdown",
   "metadata": {},
   "source": [
    "### Gaurav and Barakha are both preparing for entrance exams. Gaurav attempts tosolve 8 questions per day with a correction rate of 75%, while Barakha averages around 12 questions per day with a correction rate of 45%. What is the probability that each of them will solve 5 questions correctly? What happens in cases of 4 and 6 correct solutions? What do you infer from it? What are the two main governing factors affecting their ability to solve questions correctly? Give a pictorial representation of the same to validate your answer."
   ]
  },
  {
   "cell_type": "code",
   "execution_count": 7,
   "metadata": {},
   "outputs": [
    {
     "name": "stdout",
     "output_type": "stream",
     "text": [
      "Probability of having 5 question correct by Barkha:  0.22249823843265792\n",
      "\n",
      "\n",
      "Average value/ mean is given by np:  5.4\n",
      "Standard deviation is:  1.7233687939614089\n"
     ]
    },
    {
     "data": {
      "image/png": "[encoded data removed]",
      "text/plain": [
       "<Figure size 432x288 with 1 Axes>"
      ]
     },
     "metadata": {
      "needs_background": "light"
     },
     "output_type": "display_data"
    },
    {
     "name": "stdout",
     "output_type": "stream",
     "text": [
      "Probability of having 5 question correct by Gaurav:  0.20764160156250022\n",
      "\n",
      "\n",
      "Average value/ mean is given by np:  6.0\n",
      "Standard deviation is:  1.224744871391589\n"
     ]
    },
    {
     "data": {
      "image/png": "[encoded data removed]",
      "text/plain": [
       "<Figure size 432x288 with 1 Axes>"
      ]
     },
     "metadata": {
      "needs_background": "light"
     },
     "output_type": "display_data"
    },
    {
     "name": "stdout",
     "output_type": "stream",
     "text": [
      "Probability of having 5 question correct by Barkha:  0.16996393213605795\n",
      "\n",
      "\n",
      "Average value/ mean is given by np:  5.4\n",
      "Standard deviation is:  1.7233687939614089\n"
     ]
    },
    {
     "data": {
      "image/png": "[encoded data removed]",
      "text/plain": [
       "<Figure size 432x288 with 1 Axes>"
      ]
     },
     "metadata": {
      "needs_background": "light"
     },
     "output_type": "display_data"
    },
    {
     "name": "stdout",
     "output_type": "stream",
     "text": [
      "Probability of having 5 question correct by Gaurav:  0.08651733398437506\n",
      "\n",
      "\n",
      "Average value/ mean is given by np:  6.0\n",
      "Standard deviation is:  1.224744871391589\n"
     ]
    },
    {
     "data": {
      "image/png": "[encoded data removed]",
      "text/plain": [
       "<Figure size 432x288 with 1 Axes>"
      ]
     },
     "metadata": {
      "needs_background": "light"
     },
     "output_type": "display_data"
    },
    {
     "name": "stdout",
     "output_type": "stream",
     "text": [
      "Probability of having 5 question correct by Barkha:  0.21238468214026424\n",
      "\n",
      "\n",
      "Average value/ mean is given by np:  5.4\n",
      "Standard deviation is:  1.7233687939614089\n"
     ]
    },
    {
     "data": {
      "image/png": "[encoded data removed]",
      "text/plain": [
       "<Figure size 432x288 with 1 Axes>"
      ]
     },
     "metadata": {
      "needs_background": "light"
     },
     "output_type": "display_data"
    },
    {
     "name": "stdout",
     "output_type": "stream",
     "text": [
      "Probability of having 5 question correct by Gaurav:  0.31146240234375017\n",
      "\n",
      "\n",
      "Average value/ mean is given by np:  6.0\n",
      "Standard deviation is:  1.224744871391589\n"
     ]
    },
    {
     "data": {
      "image/png": "[encoded data removed]",
      "text/plain": [
       "<Figure size 432x288 with 1 Axes>"
      ]
     },
     "metadata": {
      "needs_background": "light"
     },
     "output_type": "display_data"
    }
   ],
   "source": [
    "# Given\n",
    "\n",
    "p1 = 0.75 # P(faulty bulbs)\n",
    "q1 =0.25 #P(not faulty bulbs)\n",
    "n1 =8 #number of Trails\n",
    "x1 = 5 # number of trails that will be succeeded\n",
    "\n",
    "p2 = 0.45\n",
    "q2 = 0.55\n",
    "n2=12\n",
    "x2 = 5\n",
    "# P(x) = nCx p^x * (1-p)^(n-x)\n",
    "# nCx = n!/((x)!*(n-x)!\n",
    "\n",
    "from scipy.stats import binom\n",
    "import math\n",
    "import matplotlib.pyplot as plt\n",
    "import seaborn as sns\n",
    "\n",
    "print(\"Probability of having 5 question correct by Barkha: \",binom.pmf(k=5,n=12,p=0.45))\n",
    "print(\"\\n\\nAverage value/ mean is given by np: \",n2*p2)    \n",
    "print(\"Standard deviation is: \",math.sqrt(n2*p2*q2))\n",
    "\n",
    "r_values = list(range(n2 + 1)) \n",
    "# list of pmf values \n",
    "dist = [binom.pmf(r1, n2, p2) for r1 in r_values ] \n",
    "# plotting the graph  \n",
    "plt.bar(r_values, dist) \n",
    "plt.show()\n",
    "\n",
    "print(\"Probability of having 5 question correct by Gaurav: \",binom.pmf(k=5,n=8,p=0.75))\n",
    "print(\"\\n\\nAverage value/ mean is given by np: \",n1*p1)    \n",
    "print(\"Standard deviation is: \",math.sqrt(n1*p1*q1))\n",
    "\n",
    "r_values = list(range(n1 + 1)) \n",
    "# list of pmf values \n",
    "dist = [binom.pmf(r1, n1, p1) for r1 in r_values ] \n",
    "# plotting the graph  \n",
    "plt.bar(r_values, dist) \n",
    "plt.show()\n",
    "\n",
    "print(\"Probability of having 5 question correct by Barkha: \",binom.pmf(k=4,n=12,p=0.45))\n",
    "print(\"\\n\\nAverage value/ mean is given by np: \",n2*p2)    \n",
    "print(\"Standard deviation is: \",math.sqrt(n2*p2*q2))\n",
    "\n",
    "r_values = list(range(n2 + 1)) \n",
    "# list of pmf values \n",
    "dist = [binom.pmf(r1, n2, p2) for r1 in r_values ] \n",
    "# plotting the graph  \n",
    "plt.bar(r_values, dist) \n",
    "plt.show()\n",
    "\n",
    "print(\"Probability of having 5 question correct by Gaurav: \",binom.pmf(k=4,n=8,p=0.75))\n",
    "print(\"\\n\\nAverage value/ mean is given by np: \",n1*p1)    \n",
    "print(\"Standard deviation is: \",math.sqrt(n1*p1*q1))\n",
    "\n",
    "r_values = list(range(n1 + 1)) \n",
    "# list of pmf values \n",
    "dist = [binom.pmf(r1, n1, p1) for r1 in r_values ] \n",
    "# plotting the graph  \n",
    "plt.bar(r_values, dist) \n",
    "plt.show()\n",
    "\n",
    "print(\"Probability of having 5 question correct by Barkha: \",binom.pmf(k=6,n=12,p=0.45))\n",
    "print(\"\\n\\nAverage value/ mean is given by np: \",n2*p2)    \n",
    "print(\"Standard deviation is: \",math.sqrt(n2*p2*q2))\n",
    "\n",
    "r_values = list(range(n2 + 1)) \n",
    "# list of pmf values \n",
    "dist = [binom.pmf(r1, n2, p2) for r1 in r_values ] \n",
    "# plotting the graph  \n",
    "plt.bar(r_values, dist) \n",
    "plt.show()\n",
    "\n",
    "print(\"Probability of having 5 question correct by Gaurav: \",binom.pmf(k=6,n=8,p=0.75))\n",
    "print(\"\\n\\nAverage value/ mean is given by np: \",n1*p1)    \n",
    "print(\"Standard deviation is: \",math.sqrt(n1*p1*q1))\n",
    "\n",
    "r_values = list(range(n1 + 1)) \n",
    "# list of pmf values \n",
    "dist = [binom.pmf(r1, n1, p1) for r1 in r_values ] \n",
    "# plotting the graph  \n",
    "plt.bar(r_values, dist,) \n",
    "plt.show()\n",
    "\n"
   ]
  },
  {
   "cell_type": "markdown",
   "metadata": {},
   "source": [
    "### Customers arrive at a rate of 72 per hour to my shop. What is the probability of k customers arriving in 4 minutes? a) 5 customers, b) not more than 3 customers, c) more than 3 customers. Give a pictorial representation of the same to validate your answer."
   ]
  },
  {
   "cell_type": "code",
   "execution_count": 42,
   "metadata": {},
   "outputs": [
    {
     "name": "stdout",
     "output_type": "stream",
     "text": [
      "\n",
      "a) Probability of arriving of 5 customers:  0.17474768364388296\n",
      "\n",
      "\n",
      "b)Probability of arriving <=3 customers:  0.29422991649656405\n",
      "\n",
      "\n",
      "c)Probability of arriving >3 customers:  0.705770083503436\n"
     ]
    },
    {
     "data": {
      "image/png": "[encoded data removed]",
      "text/plain": [
       "<Figure size 360x360 with 1 Axes>"
      ]
     },
     "metadata": {
      "needs_background": "light"
     },
     "output_type": "display_data"
    }
   ],
   "source": [
    "from scipy.stats import poisson\n",
    "import matplotlib.pyplot as plt\n",
    "import seaborn as sns\n",
    "\n",
    "custpermin = 72/60\n",
    "custarriving = custpermin*4\n",
    "possion_data = poisson.rvs(mu = 4.8,size=1000)\n",
    "sns.displot(possion_data,kde=True,color='red')\n",
    "\n",
    "prob1= poisson.pmf(k=5,mu=4.8)\n",
    "prob2 = sum(poisson.pmf(k=[0,1,2,3],mu=4.8))\n",
    "print(\"\\na) Probability of arriving of 5 customers: \",prob1)\n",
    "print(\"\\n\\nb)Probability of arriving <=3 customers: \",prob2)\n",
    "print(\"\\n\\nc)Probability of arriving >3 customers: \",1-prob2)"
   ]
  },
  {
   "cell_type": "markdown",
   "metadata": {},
   "source": [
    "### I work as a data analyst in Aeon Learning Pvt. Ltd. After analyzing data, I make reports, where I have the efficiency of entering 77 words per minute with 6 errors per hour. What is the probability that I will commit 2 errors in a 455-word financial report? What happens when the no. of words increases/decreases (in case of 1000 words, 255 words)? How is the λ affected? How does it influence the PMF? Give a pictorial representation of the same to validate your answer."
   ]
  },
  {
   "cell_type": "code",
   "execution_count": 9,
   "metadata": {},
   "outputs": [
    {
     "data": {
      "text/plain": [
       "Text(0, 0.5, 'Probability of two errors')"
      ]
     },
     "execution_count": 9,
     "metadata": {},
     "output_type": "execute_result"
    },
    {
     "data": {
      "image/png": "[encoded data removed]",
      "text/plain": [
       "<Figure size 432x288 with 1 Axes>"
      ]
     },
     "metadata": {
      "needs_background": "light"
     },
     "output_type": "display_data"
    }
   ],
   "source": [
    "import numpy as np\n",
    "n_errors_per_min=6/60 \n",
    "words=[100,255,455,1000,1500]\n",
    "prob=[]\n",
    "for i in words:\n",
    "    lamda=(i/77)*n_errors_per_min\n",
    "    dist=np.random.poisson(lamda,1000)\n",
    "    prob.append(np.sum(dist==2)/1000)\n",
    "plt.plot(words,prob)\n",
    "plt.xlabel(\"Number of Words\")\n",
    "plt.ylabel(\"Probability of two errors\")"
   ]
  },
  {
   "cell_type": "markdown",
   "metadata": {},
   "source": [
    "### Let the continuous random variable D denote the diameter of the hole drilled in an aluminum sheet. The target diameter to be achieved is 12.5mm. Random disturbances in the process often result in inaccuracy. Historical data shows that the distribution of D can be modelled by the PDF, f(d) = 20e−20(d−12.5), d ≥ 12.5. If a part with diameter > 12.6 mm needs to be scrapped, what is the proportion of those parts? What is the CDF when the diameter is of 11 mm? What is the conclusion of this experiment?"
   ]
  },
  {
   "cell_type": "code",
   "execution_count": 43,
   "metadata": {},
   "outputs": [
    {
     "name": "stdout",
     "output_type": "stream",
     "text": [
      "Proportion of those parts is:  0.13533528323661398\n",
      "Since we have d>=12.5 so for any d<12.5,CDF is 0 i.e F(x) = 0\n",
      "with 0.13533528323661398 proportion of scrapped part is larger for diameter > 12.6\n"
     ]
    }
   ],
   "source": [
    "# f(d) = 20 * e**(-20*(d-12.5)), d>=12.5\n",
    "\n",
    "from scipy.integrate import quad\n",
    "\n",
    "def fun(d):\n",
    "    return 20*np.exp(-20*(d-12.5))\n",
    "\n",
    "p_x_gt_126 = quad(fun,12.6,np.inf)\n",
    "\n",
    "print(\"Proportion of those parts is: \",p_x_gt_126[0])\n",
    "\n",
    "print(\"Since we have d>=12.5 so for any d<12.5,CDF is 0 i.e F(x) = 0\")\n",
    "\n",
    "print(\"with\",p_x_gt_126[0],\"proportion of scrapped part is larger for diameter > 12.6\")"
   ]
  },
  {
   "cell_type": "markdown",
   "metadata": {},
   "source": [
    "### Please compute the following: a) P(Z > 1.26), . P(Z < −0.86), P(Z > −1.37), P(−1.25 < Z < 0.37), . P(Z ≤ −4.6)  b) Find the value z such that P(Z > z) = 0.05 c) Find the value of z such that P(−z < Z < z) = 0.99"
   ]
  },
  {
   "cell_type": "code",
   "execution_count": 48,
   "metadata": {},
   "outputs": [
    {
     "name": "stdout",
     "output_type": "stream",
     "text": [
      "a) P(Z>1.26) =  0.1038\n",
      "   P(Z<-0.86) =  0.1949\n",
      "   P(Z>-1.37) =  0.9147\n",
      "   P(-1.25<Z<0.37) =  0.5386\n",
      "   SO, P(Z<=-4.6) is nearly zero\n",
      "\n",
      "\n",
      "b) P(Z>z)=0.05, so z is:  1.65\n",
      "   P(-z<Z<z)=0.99, then z is:  2.58\n"
     ]
    }
   ],
   "source": [
    "# from Z-table we get P(Z<=z) values to get P(Z>z) we use 1-P(Z<=z)\n",
    "\n",
    "# a) P(Z>1.26) = 1 - P(Z<=1.26)\n",
    "result         = 1 - 0.8962\n",
    "print(\"a) P(Z>1.26) = \",result)  \n",
    "\n",
    "#P(Z<-0.86)\n",
    "result  = 0.1949\n",
    "print(\"   P(Z<-0.86) = \",result)\n",
    "\n",
    "#P(Z>-1.37)  = 1- P(Z<=-1.37)\n",
    "#            = P(Z<=1.37)\n",
    "result = 0.9147\n",
    "print(\"   P(Z>-1.37) = \", result)\n",
    "\n",
    "#P(-1.25 <Z<0.37) = P(Z<0.37) - P(Z<-1.25)\n",
    "# P(Z<0.37) = 0.6443\n",
    "# P(Z<-1.25) = 0.1057\n",
    "result = 0.6443-0.1057\n",
    "print(\"   P(-1.25<Z<0.37) = \",result)\n",
    "\n",
    "#P(Z<=-4.6), this cannot be found in the Z-table, the last entry in the table is for P(Z<=-4.09), whose value is 0.00002\n",
    "# Since P(Z<=-4.6) < P(Z<=-4.09)\n",
    "print(\"   SO, P(Z<=-4.6) is nearly zero\")\n",
    "\n",
    "\n",
    "#b)\n",
    "\n",
    "# We have P(Z>z) = 0.05\n",
    "# We know P(Z>z) = 1- P(Z<=z)\n",
    "\n",
    "# 1-P(Z<=z)= 0.05\n",
    "# 1-0.05 = P(Z<=z)\n",
    "# P(Z<=z) = 0.95\n",
    "# So from Z- table we don't have exact 0.95 value in z-table so nearly we choose 0.9505 which corresponds to z = 1.65\n",
    "print(\"\\n\\nb) P(Z>z)=0.05, so z is: \",1.65)\n",
    "\n",
    "# We have P(-z<Z<z) =0.99\n",
    "# This means area under shaded portion is 99% and around tails at each end since graph being symmetric would be 0.005.\n",
    "# 0.99 = P(Z<z) - P(Z<-z)\n",
    "#Since symmetric values at end so P(Z<-z) value is 0.005\n",
    "#P(Z<z) = 0.99 +P(Z<-z)\n",
    "#P(Z<z) = 0.99+0.005\n",
    "#       =0.995\n",
    "#From z-table value corresponding to 0.995 is nearly z = 2.58\n",
    "print(\"   P(-z<Z<z)=0.99, then z is: \",2.58)\n",
    "    \n",
    "    \n"
   ]
  },
  {
   "cell_type": "markdown",
   "metadata": {},
   "source": [
    "### The current flow in a copper wire follow a normal distribution with a mean of 10 mA and a variance of 4 (mA)2. What is the probability that a current measurement will exceed 13 mA? What is the probability that a current measurement is between 9 and 11mA? Determine the current measurement which has a probability of 0.98."
   ]
  },
  {
   "cell_type": "code",
   "execution_count": 49,
   "metadata": {},
   "outputs": [
    {
     "name": "stdout",
     "output_type": "stream",
     "text": [
      "a) probability that a current measurement will exceed 13 mA:  0.06699999999999995\n",
      "\n",
      "\n",
      " b) probability that a current measurement is between 9 and 11mA:  0.38299999999999995\n",
      "\n",
      "\n",
      " c) current measurement which has a probability of 0.98 is :  15.2\n"
     ]
    }
   ],
   "source": [
    "#X = N(10,2), mu = 10, sigma = 2\n",
    "#a) P(X>13) = P(X-10/2 > (13-10)/2 )\n",
    "#           = P(Z>1.5)\n",
    "# P(Z>1.5) = 1 - P(Z<1.5)\n",
    "# P(Z<1.5) = 0.933\n",
    "result = 1- 0.933\n",
    "print(\"a) probability that a current measurement will exceed 13 mA: \",result)\n",
    "\n",
    "\n",
    "#b) P(9<X<11) = P((9-10)/2 < (X-10)/2 < (11-10)/2)\n",
    "#             = P(-0.5 < Z < 0.5)\n",
    "# P(-0.5 < Z < 0.5) = P(Z<0.5) - P(Z<-0.5)\n",
    "# P(Z<0.5) =0.692\n",
    "#P(Z<-0.5) =0.309\n",
    "result = 0.692-0.309\n",
    "print(\"\\n\\n b) probability that a current measurement is between 9 and 11mA: \",result)\n",
    "\n",
    "#c) P(X=x) = P((X-10)/2 = (x-10)/2) = P(Z=(x-10)/2) =0.98\n",
    "# from Z table we get corresponding value to 0.98 approximately as 2.06\n",
    "\n",
    "# (x-10) /2   = 2.6\n",
    "\n",
    "x = 2.6*2 +10\n",
    "print(\"\\n\\n c) current measurement which has a probability of 0.98 is : \",x)\n",
    "\n",
    "\n",
    "\n"
   ]
  },
  {
   "cell_type": "markdown",
   "metadata": {},
   "source": [
    "### The shaft in a piston has its diameter normally distributed with a mean of 0.2508 inch and a standard deviation of 0.0005 inch. The specifications of the shaft are 0.2500 ∓ 0.0015 inch. What proportion of shafts are in sync with the specifications? If the process is centered so that the mean is equal to the target value of 0.2500, what proportion of shafts conform to the new specifications? What is your conclusion from this experiment?"
   ]
  },
  {
   "cell_type": "code",
   "execution_count": 57,
   "metadata": {},
   "outputs": [
    {
     "name": "stdout",
     "output_type": "stream",
     "text": [
      "proportion of shafts are in sync with the specifications is:  0.9192\n",
      "proportion of shafts conform to the new specifications is:   0.9973000000000001\n",
      "----------Conclusion------------------\n",
      "With recentering the process we were able to achieve an increase in the yield to:99.73% \n"
     ]
    }
   ],
   "source": [
    "# X = N(0.2508,0.0005)\n",
    "\n",
    "\n",
    "# P(0.2485 < X < 0.2515)  = P((0.2485 - 0.2508)/0.0005  < (X-0.2508)/0.0005  < (0.2515 - 0.2508)/0.0005)\n",
    "#                         = P(-4.6 < Z < 1.4)\n",
    "#                         = P(Z<1.4) - P(Z<-4.6)\n",
    "# P(Z<1.4) = 0.9192\n",
    "#P(Z<-4.6) =0.00\n",
    "result = 0.9192-0.00\n",
    "print(\"proportion of shafts are in sync with the specifications is: \",result)\n",
    "\n",
    "# When Mean = target value = 0.2500\n",
    "\n",
    "# P(0.2485 < X < 0.2515)  = P((0.2485 - 0.2500)/0.0005  < (X-0.2500)/0.0005  < (0.2515 - 0.2500)/0.0005)\n",
    "#                         =P(-3 < Z < 3)\n",
    "#                         =P(Z<3) - P(Z<-3)\n",
    "#P(Z<-3) = 0.9986\n",
    "#P(Z<3) =0.0013\n",
    "result = 0.9986 - 0.0013\n",
    "print(\"proportion of shafts conform to the new specifications is:  \",result)\n",
    "\n",
    "print(\"----------Conclusion------------------\")\n",
    "print(\"With recentering the process we were able to achieve an increase in the yield to:{}% \".format(result*100,'.4f'))\n"
   ]
  },
  {
   "cell_type": "code",
   "execution_count": null,
   "metadata": {},
   "outputs": [],
   "source": []
  }
 ],
 "metadata": {
  "kernelspec": {
   "display_name": "Python 3.7.3 64-bit",
   "language": "python",
   "name": "python37364bite4ae7bf0ee5243e58af88af401603573"
  },
  "language_info": {
   "codemirror_mode": {
    "name": "ipython",
    "version": 3
   },
   "file_extension": ".py",
   "mimetype": "text/x-python",
   "name": "python",
   "nbconvert_exporter": "python",
   "pygments_lexer": "ipython3",
   "version": "3.7.3"
  }
 },
 "nbformat": 4,
 "nbformat_minor": 4
}
